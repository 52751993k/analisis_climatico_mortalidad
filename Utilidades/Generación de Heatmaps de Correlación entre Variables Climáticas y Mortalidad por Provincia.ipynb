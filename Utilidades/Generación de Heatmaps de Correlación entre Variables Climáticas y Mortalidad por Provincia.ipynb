{
 "cells": [
  {
   "cell_type": "markdown",
   "id": "49d2e1a9-4c95-4107-b842-0ac62ce7a303",
   "metadata": {},
   "source": [
    "Este script tiene como objetivo generar heatmaps de correlación entre diversas variables climáticas y de mortalidad para cada provincia en el conjunto de datos. La herramienta se centra en analizar la relación entre las temperaturas máximas y mínimas, la humedad y el número de días consecutivos con ciertas condiciones extremas, así como su posible influencia en la mortalidad.\n",
    "\n",
    "El código sigue un proceso automatizado que filtra los datos de cada provincia, calcula la matriz de correlación entre las variables seleccionadas y genera un heatmap que visualiza la fuerza y la dirección de estas correlaciones. Estos gráficos se exportan como imágenes (.png) en una carpeta específica para facilitar su revisión y análisis.\n",
    "\n",
    "Este tipo de análisis es útil en estudios climáticos y epidemiológicos, ya que permite identificar patrones regionales y comportamientos extremos que podrían estar vinculados con el aumento de la mortalidad, especialmente en relación con eventos de calor extremo."
   ]
  },
  {
   "cell_type": "code",
   "execution_count": null,
   "id": "4b60c12d-d580-4530-bae5-cd75d0f9806c",
   "metadata": {},
   "outputs": [],
   "source": [
    "import pandas as pd\n",
    "import seaborn as sns\n",
    "import matplotlib.pyplot as plt\n",
    "import os\n",
    "\n",
    "# Cargar los datos ajustados desde el archivo CSV (ruta relativa)\n",
    "ruta_csv = os.path.join('data', 'resultados_ajustados.csv')\n",
    "df_ajustados = pd.read_csv(ruta_csv)\n",
    "\n",
    "# Seleccionar las variables que se van a analizar\n",
    "variables = ['temp_min_max', 'temp_max_max', 'humedad_max',\n",
    "  'dias_consecutivos_tmax_35', 'dias_consecutivos_tmax_38',\n",
    "  'dias_consecutivos_tmax_41', 'dias_consecutivos_humedad_70',\n",
    "  'dias_consecutivos_humedad_80', 'dias_consecutivos_humedad_90',\n",
    "  'dias', 'mortalidad']\n",
    "\n",
    "# Crear un directorio para guardar los heatmaps por provincia si no existe\n",
    "output_dir = os.path.join('data', 'heatmaps_provincias')\n",
    "if not os.path.exists(output_dir):\n",
    "    os.makedirs(output_dir)\n",
    "\n",
    "# Loop sobre cada provincia para crear un heatmap de correlación\n",
    "for provincia in df_ajustados['provincia'].unique():\n",
    "    # Filtrar los datos de la provincia específica\n",
    "    df_provincia = df_ajustados[df_ajustados['provincia'] == provincia][variables]\n",
    "    \n",
    "    # Calcular la matriz de correlación\n",
    "    corr = df_provincia.corr()\n",
    "    \n",
    "    # Crear el heatmap usando Seaborn\n",
    "    plt.figure(figsize=(16, 10))\n",
    "    sns.heatmap(corr, annot=True, cmap='coolwarm', linewidths=0.5)\n",
    "    plt.title(f'Heatmap de Correlación para {provincia}')\n",
    "    plt.tight_layout()\n",
    "    \n",
    "    # Guardar el heatmap en un archivo de imagen (.png)\n",
    "    ruta_guardado = os.path.join(output_dir, f'heatmap_correlacion_{provincia}.png')\n",
    "    plt.savefig(ruta_guardado)\n",
    "    \n",
    "    # Mostrar el gráfico (opcional, se puede comentar si no se desea mostrar)\n",
    "    plt.show()\n",
    "\n",
    "    print(f\"Heatmap de correlación para {provincia} guardado en: {ruta_guardado}\")\n",
    "\n"
   ]
  }
 ],
 "metadata": {
  "kernelspec": {
   "display_name": "Python 3 (ipykernel)",
   "language": "python",
   "name": "python3"
  },
  "language_info": {
   "codemirror_mode": {
    "name": "ipython",
    "version": 3
   },
   "file_extension": ".py",
   "mimetype": "text/x-python",
   "name": "python",
   "nbconvert_exporter": "python",
   "pygments_lexer": "ipython3",
   "version": "3.11.7"
  }
 },
 "nbformat": 4,
 "nbformat_minor": 5
}
