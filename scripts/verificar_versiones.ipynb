{
 "cells": [
  {
   "cell_type": "code",
   "execution_count": null,
   "id": "af91dac1-d480-4d4e-8fdb-034beee6df94",
   "metadata": {},
   "outputs": [],
   "source": []
  },
  {
   "cell_type": "code",
   "execution_count": null,
   "id": "5a042ddb-fd38-48dc-adb5-69ad85375f5a",
   "metadata": {},
   "outputs": [],
   "source": [
    "# scripts/verificar_versiones.py\n",
    "\n",
    "import pandas as pd\n",
    "import numpy as np\n",
    "import geopandas as gpd\n",
    "import folium\n",
    "import ipywidgets as widgets\n",
    "import IPython\n",
    "import fiona\n",
    "import shapely\n",
    "import pyproj\n",
    "import rtree\n",
    "import requests\n",
    "import branca\n",
    "\n",
    "print(\"Versión de pandas:\", pd.__version__)\n",
    "print(\"Versión de NumPy:\", np.__version__)\n",
    "print(\"Versión de GeoPandas:\", gpd.__version__)\n",
    "print(\"Versión de folium:\", folium.__version__)\n",
    "print(\"Versión de ipywidgets:\", widgets.__version__)\n",
    "print(\"Versión de IPython:\", IPython.__version__)\n",
    "print(\"Versión de Fiona:\", fiona.__version__)\n",
    "print(\"Versión de shapely:\", shapely.__version__)\n",
    "print(\"Versión de pyproj:\", pyproj.__version__)\n",
    "print(\"Versión de rtree:\", rtree.__version__)\n",
    "print(\"Versión de requests:\", requests.__version__)\n",
    "print(\"Versión de branca:\", branca.__version__)\n",
    "\n"
   ]
  }
 ],
 "metadata": {
  "kernelspec": {
   "display_name": "Python 3 (ipykernel)",
   "language": "python",
   "name": "python3"
  },
  "language_info": {
   "codemirror_mode": {
    "name": "ipython",
    "version": 3
   },
   "file_extension": ".py",
   "mimetype": "text/x-python",
   "name": "python",
   "nbconvert_exporter": "python",
   "pygments_lexer": "ipython3",
   "version": "3.11.7"
  }
 },
 "nbformat": 4,
 "nbformat_minor": 5
}
